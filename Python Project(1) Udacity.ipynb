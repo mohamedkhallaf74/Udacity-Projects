{
 "cells": [
  {
   "cell_type": "code",
   "execution_count": null,
   "metadata": {},
   "outputs": [],
   "source": [
    "import time\n",
    "import pandas as pd\n",
    "import numpy as np"
   ]
  },
  {
   "cell_type": "code",
   "execution_count": null,
   "metadata": {},
   "outputs": [],
   "source": [
    "CITY_DATA = { 'chicago': 'chicago.csv',\n",
    "              'new york city': 'new_york_city.csv',\n",
    "              'washington': 'washington.csv' }"
   ]
  },
  {
   "cell_type": "code",
   "execution_count": null,
   "metadata": {},
   "outputs": [],
   "source": [
    "def checking(input_word,key):\n",
    "    while True:\n",
    "        inp_R=input(input_word).lower()\n",
    "        if inp_R in ['chicago', 'new york city', 'washington'] and key=='city':\n",
    "            break\n",
    "        elif inp_R in ['all', 'january', 'february', 'march','april','may', 'june'] and key=='month':\n",
    "            break\n",
    "        elif inp_R in [ 'all', 'monday', 'tuesday','wednesday', 'thursday','friday','saturday', 'sunday'] and key=='day':\n",
    "            break\n",
    "        else:\n",
    "            if key=='city':\n",
    "                print('Sorry, the city you entered is not available in this version. Please enter one of the available city from this list (chicago, new york city, washington) ')\n",
    "            if key=='month':\n",
    "                print(\"Sorry, the data for the month you entered is not available in this version. Please enter one of available months from this list('all', 'january', 'february', 'march','april','may', 'june') \")\n",
    "            if key=='day':\n",
    "                print(\"Sorry, enter the correct name of the day\")\n",
    "    return inp_R     "
   ]
  },
  {
   "cell_type": "code",
   "execution_count": null,
   "metadata": {},
   "outputs": [],
   "source": [
    "def get_filters():\n",
    "    print('\\n\\t\\t\\tHello! Let\\'s explore some US bikeshare data!\\n')\n",
    "    \n",
    "    print('\\t\\t Please Choose From The Options Listed In Front Of You \\n')\n",
    "    print('\\t No Need To Worry, You Can Enter The Words As You Want, Small Case or Upper Case \\n')\n",
    "    city=checking(\"1. Please Enter The Name Of The City From The Following Cities (chicago,new york city,washington ) :\",'city')\n",
    "    print(\"\\n\\t\\t\\t\\t\\t\\t *****\")\n",
    "    month=checking(\"2. In which month (all, january, february,march,april,may,june) would you like to see the analysis :\",'month')\n",
    "    print(\"\\n\\t\\t\\t\\t\\t\\t *****\")\n",
    "    day=checking(\"3. Which day(all,saturday,sunday, monday, tuesday,wednesday, thursday,friday) would you like to see data about :\",'day')\n",
    "\n",
    "\n",
    "\n",
    "    print('='*40)\n",
    "    return city, month, day\n"
   ]
  },
  {
   "cell_type": "code",
   "execution_count": null,
   "metadata": {},
   "outputs": [],
   "source": [
    "def load_data(city, month, day):\n",
    "  \n",
    "    df = pd.read_csv(CITY_DATA[city])\n",
    "    df['Start Time'] = pd.to_datetime(df['Start Time'])\n",
    "    df['month'] = df['Start Time'].dt.month\n",
    "    df['day_in_week'] = df['Start Time'].dt.weekday_name\n",
    "    df['hour'] = df['Start Time'].dt.hour\n",
    "    if month != 'all':\n",
    "        available_months = ['january', 'february', 'march', 'april', 'may', 'june']\n",
    "        month = available_months.index(month) + 1\n",
    "        df = df[df['month'] == month]\n",
    "    if day != 'all':\n",
    "        df = df[df['day_in_week'] == day.title()]\n",
    "    return df"
   ]
  },
  {
   "cell_type": "code",
   "execution_count": null,
   "metadata": {},
   "outputs": [],
   "source": [
    "def time_stats(df):\n",
    "  \n",
    "\n",
    "    print('\\n\\t---> Calculating The Most Frequent Times of Travel <---\\n')\n",
    "    start_time = time.time()\n",
    "\n",
    "    \n",
    "    m= df['month'].mode()[0]\n",
    "    print(\"most common month is :\",m)\n",
    "   \n",
    "    d = df['day_in_week'].mode()[0]\n",
    "    print(\"most common day of week is :\",d) \n",
    "\n",
    "   \n",
    "    h = df['hour'].mode()[0]\n",
    "    print(\"most common hour of day is :\",h)\n",
    "\n",
    "    print(\"\\nThis took %s seconds.\" % (time.time() - start_time))\n",
    "    print('='*40)\n",
    "    "
   ]
  },
  {
   "cell_type": "code",
   "execution_count": null,
   "metadata": {},
   "outputs": [],
   "source": [
    "def station_stats(df):\n",
    "\n",
    "    print('\\n\\t---> Calculating The Most Popular Stations and Trip <---\\n')\n",
    "    start_time = time.time()\n",
    "\n",
    "\n",
    "    s=df['Start Station'].mode()[0]\n",
    "    print(\"the most common start station is :\",s)\n",
    "\n",
    "    \n",
    "    e=df['End Station'].mode()[0]\n",
    "    print(\"the most common end station is :\",e)\n",
    "\n",
    "    \n",
    "    start_end_stations=df.groupby(['Start Station','End Station'])\n",
    "    se = start_end_stations.size().sort_values(ascending =False).head(1)\n",
    "    print(\" the most common trip from start station to end station is :\\n\",se)\n",
    "\n",
    "    print(\"\\nThis took %s seconds.\" % (time.time() - start_time))\n",
    "    print('='*40)"
   ]
  },
  {
   "cell_type": "code",
   "execution_count": null,
   "metadata": {},
   "outputs": [],
   "source": [
    "def trip_duration_stats(df):\n",
    "\n",
    "    print('\\n\\t---> Calculating Trip Duration <---\\n')\n",
    "    start_time = time.time()\n",
    "\n",
    "    \n",
    "    T_time = df['Trip Duration'].sum()\n",
    "    print(\"the total travel time is :\",T_time,\"second.\")\n",
    "    \n",
    "    average_time =  df['Trip Duration'].mean()\n",
    "    print(\"\\naverage travel time is :\",average_time,\"second.\")\n",
    "    print(\"\\nThis took %s seconds.\" % (time.time() - start_time))\n",
    "    print('='*40)"
   ]
  },
  {
   "cell_type": "code",
   "execution_count": null,
   "metadata": {},
   "outputs": [],
   "source": [
    "def user_stats(df,city):\n",
    "    \n",
    "    print('\\n\\t---> Calculating User Stats <---\\n')\n",
    "    start_time = time.time()\n",
    "\n",
    "    \n",
    "    UT=df['User Type'].value_counts()\n",
    "    print(\"\\nthe number of each user type is :\\n\",UT)\n",
    "    if city!=\"washington\":\n",
    "        \n",
    "        G = df['Gender'].value_counts()\n",
    "        print(\"\\nthe number of each gender is :\\n\",G)\n",
    "\n",
    "\n",
    "        a = df['Birth Year'].min()  \n",
    "        print(\"\\nthe earliest year of birth is :\",a)\n",
    "        b = df['Birth Year'].max()\n",
    "        print(\"\\nthe most recent year of birth is :\",b)\n",
    "        c = df['Birth Year'].mode()[0] \n",
    "        print(\"\\nthe most common year of birth is :\",c)\n",
    "\n",
    "\n",
    "    print(\"\\nThis took %s seconds.\" % (time.time() - start_time))\n",
    "    print('='*40)\n",
    "    "
   ]
  },
  {
   "cell_type": "code",
   "execution_count": null,
   "metadata": {},
   "outputs": [],
   "source": [
    "def main():\n",
    "    while True:\n",
    "        city, month, day = get_filters()\n",
    "        df = load_data(city, month, day)\n",
    "\n",
    "        time_stats(df)\n",
    "        station_stats(df)\n",
    "        trip_duration_stats(df)\n",
    "        user_stats(df,city)\n",
    "\n",
    "        restart = input('\\nWould you like to restart? \\nPlease Enter yes or no :\\n')\n",
    "        if restart.lower() != 'yes':\n",
    "            print(\"\\t\\t\\t\\t\\t\\t--->Thank You For Using Our Services<---\")\n",
    "            break\n",
    "\n",
    "\n",
    "if __name__ == \"__main__\":\n",
    "    main()"
   ]
  }
 ],
 "metadata": {
  "kernelspec": {
   "display_name": "Python 3",
   "language": "python",
   "name": "python3"
  },
  "language_info": {
   "codemirror_mode": {
    "name": "ipython",
    "version": 3
   },
   "file_extension": ".py",
   "mimetype": "text/x-python",
   "name": "python",
   "nbconvert_exporter": "python",
   "pygments_lexer": "ipython3",
   "version": "3.7.4"
  }
 },
 "nbformat": 4,
 "nbformat_minor": 2
}

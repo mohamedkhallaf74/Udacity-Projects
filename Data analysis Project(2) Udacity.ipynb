{
 "cells": [
  {
   "cell_type": "markdown",
   "metadata": {},
   "source": [
    "\n",
    "\n",
    "# Project: Investigate a Dataset (TMDb_Movies Dataset)\n",
    "\n",
    "## Table of Contents\n",
    "<ul>\n",
    "<li><a href=\"#intro\">Introduction</a></li>\n",
    "<li><a href=\"#wrangling\">Data Wrangling</a></li>\n",
    "<li><a href=\"#eda\">Exploratory Data Analysis</a></li>\n",
    "<li><a href=\"#conclusions\">Conclusions</a></li>\n",
    "<li><a href=\"#Limitations\">Limitations</a></li>\n",
    "<li><a href=\"#Question 1\">Question 1</a></li>\n",
    "<li><a href=\"#Question 2\">Question 2</a></li>\n",
    "<li><a href=\"#Question 3\">Question 3</a></li>\n",
    "<li><a href=\"#Question 4\">Question 4</a></li>\n",
    "<li><a href=\"#Question 5\">Question 5</a></li>\n",
    "</ul>"
   ]
  },
  {
   "cell_type": "markdown",
   "metadata": {},
   "source": [
    "<a id='intro'></a>\n",
    "## Introduction\n",
    "\n",
    "> **Tip**: in this project I work on  TMDb movies dataset.\n",
    "\n",
    "This data set contains information about 10865 movies collected from The Movie Database (TMDb). It consist of 21 columns such as imdb_id, revenue, budget, vote_count etc.\n",
    "\n",
    "## Question that can answered from this data set:\n",
    "\n",
    "1-which Movies has biggest and smallest profit?\n",
    "\n",
    "2-which Movies with biggest and smallest budgets?\n",
    "\n",
    "3-which years has biggest and smallest number of producing Movies?\n",
    "\n",
    "4- relation between profits and years and which year had maximum and minimum profits ? \n",
    "\n",
    "5-Average (budgets,runtime) of the movies "
   ]
  },
  {
   "cell_type": "code",
   "execution_count": 2,
   "metadata": {},
   "outputs": [],
   "source": [
    "import pandas as pd\n",
    "import numpy as np\n",
    "import seaborn as sns\n",
    "import matplotlib.pyplot as plt\n",
    "%matplotlib inline"
   ]
  },
  {
   "cell_type": "markdown",
   "metadata": {},
   "source": [
    "<a id='wrangling'></a>\n",
    "## Data Wrangling\n",
    "\n",
    "> **Tip**: After i take a look on the dataset and set the questions for the analysis i delete  unsued(unuseful) data so that i can make my calculation \n",
    "at first i load my data and see details about it like the shape to know number of rows and columns at the next step i use info function to see more details about my data and see if there is a nulling values to treat with it then i use duplicate function to see if there is any duplicated rows and delete it then i use is null function to see if there is nulling values and delete it at last step i use dtypes function to see the data type of each column.\n",
    "\n",
    "### General Properties"
   ]
  },
  {
   "cell_type": "code",
   "execution_count": 3,
   "metadata": {},
   "outputs": [
    {
     "data": {
      "text/html": [
       "<div>\n",
       "<style scoped>\n",
       "    .dataframe tbody tr th:only-of-type {\n",
       "        vertical-align: middle;\n",
       "    }\n",
       "\n",
       "    .dataframe tbody tr th {\n",
       "        vertical-align: top;\n",
       "    }\n",
       "\n",
       "    .dataframe thead th {\n",
       "        text-align: right;\n",
       "    }\n",
       "</style>\n",
       "<table border=\"1\" class=\"dataframe\">\n",
       "  <thead>\n",
       "    <tr style=\"text-align: right;\">\n",
       "      <th></th>\n",
       "      <th>id</th>\n",
       "      <th>imdb_id</th>\n",
       "      <th>popularity</th>\n",
       "      <th>budget</th>\n",
       "      <th>revenue</th>\n",
       "      <th>original_title</th>\n",
       "      <th>cast</th>\n",
       "      <th>homepage</th>\n",
       "      <th>director</th>\n",
       "      <th>tagline</th>\n",
       "      <th>...</th>\n",
       "      <th>overview</th>\n",
       "      <th>runtime</th>\n",
       "      <th>genres</th>\n",
       "      <th>production_companies</th>\n",
       "      <th>release_date</th>\n",
       "      <th>vote_count</th>\n",
       "      <th>vote_average</th>\n",
       "      <th>release_year</th>\n",
       "      <th>budget_adj</th>\n",
       "      <th>revenue_adj</th>\n",
       "    </tr>\n",
       "  </thead>\n",
       "  <tbody>\n",
       "    <tr>\n",
       "      <td>0</td>\n",
       "      <td>135397</td>\n",
       "      <td>tt0369610</td>\n",
       "      <td>32.985763</td>\n",
       "      <td>150000000</td>\n",
       "      <td>1513528810</td>\n",
       "      <td>Jurassic World</td>\n",
       "      <td>Chris Pratt|Bryce Dallas Howard|Irrfan Khan|Vi...</td>\n",
       "      <td>http://www.jurassicworld.com/</td>\n",
       "      <td>Colin Trevorrow</td>\n",
       "      <td>The park is open.</td>\n",
       "      <td>...</td>\n",
       "      <td>Twenty-two years after the events of Jurassic ...</td>\n",
       "      <td>124</td>\n",
       "      <td>Action|Adventure|Science Fiction|Thriller</td>\n",
       "      <td>Universal Studios|Amblin Entertainment|Legenda...</td>\n",
       "      <td>6/9/15</td>\n",
       "      <td>5562</td>\n",
       "      <td>6.5</td>\n",
       "      <td>2015</td>\n",
       "      <td>1.379999e+08</td>\n",
       "      <td>1.392446e+09</td>\n",
       "    </tr>\n",
       "  </tbody>\n",
       "</table>\n",
       "<p>1 rows × 21 columns</p>\n",
       "</div>"
      ],
      "text/plain": [
       "       id    imdb_id  popularity     budget     revenue  original_title  \\\n",
       "0  135397  tt0369610   32.985763  150000000  1513528810  Jurassic World   \n",
       "\n",
       "                                                cast  \\\n",
       "0  Chris Pratt|Bryce Dallas Howard|Irrfan Khan|Vi...   \n",
       "\n",
       "                        homepage         director            tagline  ...  \\\n",
       "0  http://www.jurassicworld.com/  Colin Trevorrow  The park is open.  ...   \n",
       "\n",
       "                                            overview runtime  \\\n",
       "0  Twenty-two years after the events of Jurassic ...     124   \n",
       "\n",
       "                                      genres  \\\n",
       "0  Action|Adventure|Science Fiction|Thriller   \n",
       "\n",
       "                                production_companies release_date vote_count  \\\n",
       "0  Universal Studios|Amblin Entertainment|Legenda...       6/9/15       5562   \n",
       "\n",
       "   vote_average  release_year    budget_adj   revenue_adj  \n",
       "0           6.5          2015  1.379999e+08  1.392446e+09  \n",
       "\n",
       "[1 rows x 21 columns]"
      ]
     },
     "execution_count": 3,
     "metadata": {},
     "output_type": "execute_result"
    }
   ],
   "source": [
    "# Load your data and print out a few lines. Perform operations to inspect data\n",
    "df=pd.read_csv('tmdb-movies.csv')\n",
    "#   types and look for instances of missing or possibly errant data.\n",
    "df.head(1)"
   ]
  },
  {
   "cell_type": "code",
   "execution_count": 4,
   "metadata": {},
   "outputs": [
    {
     "data": {
      "text/plain": [
       "(10866, 21)"
      ]
     },
     "execution_count": 4,
     "metadata": {},
     "output_type": "execute_result"
    }
   ],
   "source": [
    "# know number of rows and columns \n",
    "df.shape"
   ]
  },
  {
   "cell_type": "code",
   "execution_count": 5,
   "metadata": {},
   "outputs": [
    {
     "name": "stdout",
     "output_type": "stream",
     "text": [
      "<class 'pandas.core.frame.DataFrame'>\n",
      "RangeIndex: 10866 entries, 0 to 10865\n",
      "Data columns (total 21 columns):\n",
      "id                      10866 non-null int64\n",
      "imdb_id                 10856 non-null object\n",
      "popularity              10866 non-null float64\n",
      "budget                  10866 non-null int64\n",
      "revenue                 10866 non-null int64\n",
      "original_title          10866 non-null object\n",
      "cast                    10790 non-null object\n",
      "homepage                2936 non-null object\n",
      "director                10822 non-null object\n",
      "tagline                 8042 non-null object\n",
      "keywords                9373 non-null object\n",
      "overview                10862 non-null object\n",
      "runtime                 10866 non-null int64\n",
      "genres                  10843 non-null object\n",
      "production_companies    9836 non-null object\n",
      "release_date            10866 non-null object\n",
      "vote_count              10866 non-null int64\n",
      "vote_average            10866 non-null float64\n",
      "release_year            10866 non-null int64\n",
      "budget_adj              10866 non-null float64\n",
      "revenue_adj             10866 non-null float64\n",
      "dtypes: float64(4), int64(6), object(11)\n",
      "memory usage: 1.7+ MB\n"
     ]
    }
   ],
   "source": [
    "#see more details about my data and see if there is a nulling values \n",
    "df.info()"
   ]
  },
  {
   "cell_type": "code",
   "execution_count": 6,
   "metadata": {},
   "outputs": [
    {
     "data": {
      "text/plain": [
       "1"
      ]
     },
     "execution_count": 6,
     "metadata": {},
     "output_type": "execute_result"
    }
   ],
   "source": [
    "#see if there is any duplicated rows and delete it \n",
    "df.duplicated().sum()"
   ]
  },
  {
   "cell_type": "code",
   "execution_count": 7,
   "metadata": {},
   "outputs": [
    {
     "data": {
      "text/plain": [
       "id                         0\n",
       "imdb_id                   10\n",
       "popularity                 0\n",
       "budget                     0\n",
       "revenue                    0\n",
       "original_title             0\n",
       "cast                      76\n",
       "homepage                7930\n",
       "director                  44\n",
       "tagline                 2824\n",
       "keywords                1493\n",
       "overview                   4\n",
       "runtime                    0\n",
       "genres                    23\n",
       "production_companies    1030\n",
       "release_date               0\n",
       "vote_count                 0\n",
       "vote_average               0\n",
       "release_year               0\n",
       "budget_adj                 0\n",
       "revenue_adj                0\n",
       "dtype: int64"
      ]
     },
     "execution_count": 7,
     "metadata": {},
     "output_type": "execute_result"
    }
   ],
   "source": [
    "#calculate number of nulling values on each column\n",
    "df.isnull().sum()"
   ]
  },
  {
   "cell_type": "code",
   "execution_count": 8,
   "metadata": {},
   "outputs": [
    {
     "data": {
      "text/plain": [
       "id                        int64\n",
       "imdb_id                  object\n",
       "popularity              float64\n",
       "budget                    int64\n",
       "revenue                   int64\n",
       "original_title           object\n",
       "cast                     object\n",
       "homepage                 object\n",
       "director                 object\n",
       "tagline                  object\n",
       "keywords                 object\n",
       "overview                 object\n",
       "runtime                   int64\n",
       "genres                   object\n",
       "production_companies     object\n",
       "release_date             object\n",
       "vote_count                int64\n",
       "vote_average            float64\n",
       "release_year              int64\n",
       "budget_adj              float64\n",
       "revenue_adj             float64\n",
       "dtype: object"
      ]
     },
     "execution_count": 8,
     "metadata": {},
     "output_type": "execute_result"
    }
   ],
   "source": [
    "#see the data type of each column.\n",
    "df.dtypes"
   ]
  },
  {
   "cell_type": "markdown",
   "metadata": {},
   "source": [
    "\n",
    "### Data Cleaning (Removing the unused,duplicated,null values data from the dataset )\n",
    "1-remove unused column such as id, imdb_id, vote_count, production_company, keywords, homepage etc\n",
    "\n",
    "2-Removing the duplicacy in the rows\n",
    "\n",
    "3-Remove NULL values\n",
    "\n",
    "4-Replac zero with NAN in  'budget', 'revenue' column and delete it\n",
    "\n",
    "5-Chang format of budget and revenue column"
   ]
  },
  {
   "cell_type": "code",
   "execution_count": 9,
   "metadata": {},
   "outputs": [],
   "source": [
    "#1\n",
    "# After discussing the structure of the data and any problems that need to be\n",
    "#   cleaned, perform those cleaning steps in the second part of this section.\n",
    "del_col=[ 'id', 'imdb_id', 'popularity', 'budget_adj', 'revenue_adj', 'homepage', 'keywords', 'overview', 'production_companies', 'vote_count', 'vote_average']\n",
    "df.drop(del_col,axis=1, inplace=True)\n"
   ]
  },
  {
   "cell_type": "code",
   "execution_count": 10,
   "metadata": {},
   "outputs": [
    {
     "data": {
      "text/html": [
       "<div>\n",
       "<style scoped>\n",
       "    .dataframe tbody tr th:only-of-type {\n",
       "        vertical-align: middle;\n",
       "    }\n",
       "\n",
       "    .dataframe tbody tr th {\n",
       "        vertical-align: top;\n",
       "    }\n",
       "\n",
       "    .dataframe thead th {\n",
       "        text-align: right;\n",
       "    }\n",
       "</style>\n",
       "<table border=\"1\" class=\"dataframe\">\n",
       "  <thead>\n",
       "    <tr style=\"text-align: right;\">\n",
       "      <th></th>\n",
       "      <th>budget</th>\n",
       "      <th>revenue</th>\n",
       "      <th>original_title</th>\n",
       "      <th>cast</th>\n",
       "      <th>director</th>\n",
       "      <th>tagline</th>\n",
       "      <th>runtime</th>\n",
       "      <th>genres</th>\n",
       "      <th>release_date</th>\n",
       "      <th>release_year</th>\n",
       "    </tr>\n",
       "  </thead>\n",
       "  <tbody>\n",
       "    <tr>\n",
       "      <td>0</td>\n",
       "      <td>150000000</td>\n",
       "      <td>1513528810</td>\n",
       "      <td>Jurassic World</td>\n",
       "      <td>Chris Pratt|Bryce Dallas Howard|Irrfan Khan|Vi...</td>\n",
       "      <td>Colin Trevorrow</td>\n",
       "      <td>The park is open.</td>\n",
       "      <td>124</td>\n",
       "      <td>Action|Adventure|Science Fiction|Thriller</td>\n",
       "      <td>6/9/15</td>\n",
       "      <td>2015</td>\n",
       "    </tr>\n",
       "  </tbody>\n",
       "</table>\n",
       "</div>"
      ],
      "text/plain": [
       "      budget     revenue  original_title  \\\n",
       "0  150000000  1513528810  Jurassic World   \n",
       "\n",
       "                                                cast         director  \\\n",
       "0  Chris Pratt|Bryce Dallas Howard|Irrfan Khan|Vi...  Colin Trevorrow   \n",
       "\n",
       "             tagline  runtime                                     genres  \\\n",
       "0  The park is open.      124  Action|Adventure|Science Fiction|Thriller   \n",
       "\n",
       "  release_date  release_year  \n",
       "0       6/9/15          2015  "
      ]
     },
     "execution_count": 10,
     "metadata": {},
     "output_type": "execute_result"
    }
   ],
   "source": [
    "df.head(1)"
   ]
  },
  {
   "cell_type": "code",
   "execution_count": 11,
   "metadata": {
    "scrolled": false
   },
   "outputs": [
    {
     "data": {
      "text/plain": [
       "budget               0\n",
       "revenue              0\n",
       "original_title       0\n",
       "cast                76\n",
       "director            44\n",
       "tagline           2824\n",
       "runtime              0\n",
       "genres              23\n",
       "release_date         0\n",
       "release_year         0\n",
       "dtype: int64"
      ]
     },
     "execution_count": 11,
     "metadata": {},
     "output_type": "execute_result"
    }
   ],
   "source": [
    "#see numbers of null values after deleting unused columns\n",
    "df.isnull().sum()"
   ]
  },
  {
   "cell_type": "code",
   "execution_count": 12,
   "metadata": {},
   "outputs": [
    {
     "data": {
      "text/plain": [
       "budget             int64\n",
       "revenue            int64\n",
       "original_title    object\n",
       "cast              object\n",
       "director          object\n",
       "tagline           object\n",
       "runtime            int64\n",
       "genres            object\n",
       "release_date      object\n",
       "release_year       int64\n",
       "dtype: object"
      ]
     },
     "execution_count": 12,
     "metadata": {},
     "output_type": "execute_result"
    }
   ],
   "source": [
    "# see the data type of each column after deleting unused columns\n",
    "df.dtypes"
   ]
  },
  {
   "cell_type": "code",
   "execution_count": 13,
   "metadata": {},
   "outputs": [
    {
     "data": {
      "text/plain": [
       "1"
      ]
     },
     "execution_count": 13,
     "metadata": {},
     "output_type": "execute_result"
    }
   ],
   "source": [
    "#see if there is any duplicated rows and delete it after deleting unused columns\n",
    "df.duplicated().sum()"
   ]
  },
  {
   "cell_type": "code",
   "execution_count": 14,
   "metadata": {},
   "outputs": [],
   "source": [
    "#Removing the duplicacy in the rows\n",
    "df.drop_duplicates(inplace=True)"
   ]
  },
  {
   "cell_type": "code",
   "execution_count": 15,
   "metadata": {},
   "outputs": [
    {
     "data": {
      "text/plain": [
       "0"
      ]
     },
     "execution_count": 15,
     "metadata": {},
     "output_type": "execute_result"
    }
   ],
   "source": [
    "# checking if all duplicates values deleted To avoid any errors\n",
    "df.duplicated().sum()"
   ]
  },
  {
   "cell_type": "code",
   "execution_count": 16,
   "metadata": {},
   "outputs": [],
   "source": [
    "#Replac zero with NAN in 'budget', 'revenue' column \n",
    "columns=['budget', 'revenue']\n",
    "\n",
    "df[columns] =df[columns].replace(0,np.NAN)\n"
   ]
  },
  {
   "cell_type": "code",
   "execution_count": 17,
   "metadata": {},
   "outputs": [],
   "source": [
    "# delete Nullvalues on 'budget', 'revenue' column  \n",
    "df.dropna( subset =columns, inplace = True)"
   ]
  },
  {
   "cell_type": "code",
   "execution_count": 18,
   "metadata": {},
   "outputs": [
    {
     "data": {
      "text/plain": [
       "(3854, 10)"
      ]
     },
     "execution_count": 18,
     "metadata": {},
     "output_type": "execute_result"
    }
   ],
   "source": [
    "# taking alook on number of rows and columns\n",
    "df.shape"
   ]
  },
  {
   "cell_type": "code",
   "execution_count": 19,
   "metadata": {},
   "outputs": [
    {
     "data": {
      "text/plain": [
       "budget            float64\n",
       "revenue           float64\n",
       "original_title     object\n",
       "cast               object\n",
       "director           object\n",
       "tagline            object\n",
       "runtime             int64\n",
       "genres             object\n",
       "release_date       object\n",
       "release_year        int64\n",
       "dtype: object"
      ]
     },
     "execution_count": 19,
     "metadata": {},
     "output_type": "execute_result"
    }
   ],
   "source": [
    "# taking alook on data types of The remaining columns\n",
    "df.dtypes"
   ]
  },
  {
   "cell_type": "code",
   "execution_count": 20,
   "metadata": {},
   "outputs": [],
   "source": [
    "#Chang format of  revenue column\n",
    "df['revenue']=df['revenue'].astype(int)"
   ]
  },
  {
   "cell_type": "code",
   "execution_count": 21,
   "metadata": {},
   "outputs": [],
   "source": [
    "#Chang format of budget column\n",
    "df['budget']=df['budget'].astype(int)"
   ]
  },
  {
   "cell_type": "markdown",
   "metadata": {},
   "source": [
    "<a id='eda'></a>\n",
    "## Exploratory Data Analysis\n",
    "\n",
    "<a id='Question 1'></a>\n",
    "### Research Question 1 (Calculating which Movies has biggest and smallest profit)"
   ]
  },
  {
   "cell_type": "code",
   "execution_count": 22,
   "metadata": {},
   "outputs": [],
   "source": [
    "# to calculate profit i subtract the value of budget from revenue then put the value on new column called net_profit\n",
    "df['net_profit']=df['revenue']-df['budget']"
   ]
  },
  {
   "cell_type": "code",
   "execution_count": 23,
   "metadata": {},
   "outputs": [
    {
     "data": {
      "text/html": [
       "<div>\n",
       "<style scoped>\n",
       "    .dataframe tbody tr th:only-of-type {\n",
       "        vertical-align: middle;\n",
       "    }\n",
       "\n",
       "    .dataframe tbody tr th {\n",
       "        vertical-align: top;\n",
       "    }\n",
       "\n",
       "    .dataframe thead th {\n",
       "        text-align: right;\n",
       "    }\n",
       "</style>\n",
       "<table border=\"1\" class=\"dataframe\">\n",
       "  <thead>\n",
       "    <tr style=\"text-align: right;\">\n",
       "      <th></th>\n",
       "      <th>budget</th>\n",
       "      <th>revenue</th>\n",
       "      <th>original_title</th>\n",
       "      <th>cast</th>\n",
       "      <th>director</th>\n",
       "      <th>tagline</th>\n",
       "      <th>runtime</th>\n",
       "      <th>genres</th>\n",
       "      <th>release_date</th>\n",
       "      <th>release_year</th>\n",
       "      <th>net_profit</th>\n",
       "    </tr>\n",
       "  </thead>\n",
       "  <tbody>\n",
       "    <tr>\n",
       "      <td>0</td>\n",
       "      <td>150000000</td>\n",
       "      <td>1513528810</td>\n",
       "      <td>Jurassic World</td>\n",
       "      <td>Chris Pratt|Bryce Dallas Howard|Irrfan Khan|Vi...</td>\n",
       "      <td>Colin Trevorrow</td>\n",
       "      <td>The park is open.</td>\n",
       "      <td>124</td>\n",
       "      <td>Action|Adventure|Science Fiction|Thriller</td>\n",
       "      <td>6/9/15</td>\n",
       "      <td>2015</td>\n",
       "      <td>1363528810</td>\n",
       "    </tr>\n",
       "    <tr>\n",
       "      <td>1</td>\n",
       "      <td>150000000</td>\n",
       "      <td>378436354</td>\n",
       "      <td>Mad Max: Fury Road</td>\n",
       "      <td>Tom Hardy|Charlize Theron|Hugh Keays-Byrne|Nic...</td>\n",
       "      <td>George Miller</td>\n",
       "      <td>What a Lovely Day.</td>\n",
       "      <td>120</td>\n",
       "      <td>Action|Adventure|Science Fiction|Thriller</td>\n",
       "      <td>5/13/15</td>\n",
       "      <td>2015</td>\n",
       "      <td>228436354</td>\n",
       "    </tr>\n",
       "    <tr>\n",
       "      <td>2</td>\n",
       "      <td>110000000</td>\n",
       "      <td>295238201</td>\n",
       "      <td>Insurgent</td>\n",
       "      <td>Shailene Woodley|Theo James|Kate Winslet|Ansel...</td>\n",
       "      <td>Robert Schwentke</td>\n",
       "      <td>One Choice Can Destroy You</td>\n",
       "      <td>119</td>\n",
       "      <td>Adventure|Science Fiction|Thriller</td>\n",
       "      <td>3/18/15</td>\n",
       "      <td>2015</td>\n",
       "      <td>185238201</td>\n",
       "    </tr>\n",
       "    <tr>\n",
       "      <td>3</td>\n",
       "      <td>200000000</td>\n",
       "      <td>2068178225</td>\n",
       "      <td>Star Wars: The Force Awakens</td>\n",
       "      <td>Harrison Ford|Mark Hamill|Carrie Fisher|Adam D...</td>\n",
       "      <td>J.J. Abrams</td>\n",
       "      <td>Every generation has a story.</td>\n",
       "      <td>136</td>\n",
       "      <td>Action|Adventure|Science Fiction|Fantasy</td>\n",
       "      <td>12/15/15</td>\n",
       "      <td>2015</td>\n",
       "      <td>1868178225</td>\n",
       "    </tr>\n",
       "    <tr>\n",
       "      <td>4</td>\n",
       "      <td>190000000</td>\n",
       "      <td>1506249360</td>\n",
       "      <td>Furious 7</td>\n",
       "      <td>Vin Diesel|Paul Walker|Jason Statham|Michelle ...</td>\n",
       "      <td>James Wan</td>\n",
       "      <td>Vengeance Hits Home</td>\n",
       "      <td>137</td>\n",
       "      <td>Action|Crime|Thriller</td>\n",
       "      <td>4/1/15</td>\n",
       "      <td>2015</td>\n",
       "      <td>1316249360</td>\n",
       "    </tr>\n",
       "  </tbody>\n",
       "</table>\n",
       "</div>"
      ],
      "text/plain": [
       "      budget     revenue                original_title  \\\n",
       "0  150000000  1513528810                Jurassic World   \n",
       "1  150000000   378436354            Mad Max: Fury Road   \n",
       "2  110000000   295238201                     Insurgent   \n",
       "3  200000000  2068178225  Star Wars: The Force Awakens   \n",
       "4  190000000  1506249360                     Furious 7   \n",
       "\n",
       "                                                cast          director  \\\n",
       "0  Chris Pratt|Bryce Dallas Howard|Irrfan Khan|Vi...   Colin Trevorrow   \n",
       "1  Tom Hardy|Charlize Theron|Hugh Keays-Byrne|Nic...     George Miller   \n",
       "2  Shailene Woodley|Theo James|Kate Winslet|Ansel...  Robert Schwentke   \n",
       "3  Harrison Ford|Mark Hamill|Carrie Fisher|Adam D...       J.J. Abrams   \n",
       "4  Vin Diesel|Paul Walker|Jason Statham|Michelle ...         James Wan   \n",
       "\n",
       "                         tagline  runtime  \\\n",
       "0              The park is open.      124   \n",
       "1             What a Lovely Day.      120   \n",
       "2     One Choice Can Destroy You      119   \n",
       "3  Every generation has a story.      136   \n",
       "4            Vengeance Hits Home      137   \n",
       "\n",
       "                                      genres release_date  release_year  \\\n",
       "0  Action|Adventure|Science Fiction|Thriller       6/9/15          2015   \n",
       "1  Action|Adventure|Science Fiction|Thriller      5/13/15          2015   \n",
       "2         Adventure|Science Fiction|Thriller      3/18/15          2015   \n",
       "3   Action|Adventure|Science Fiction|Fantasy     12/15/15          2015   \n",
       "4                      Action|Crime|Thriller       4/1/15          2015   \n",
       "\n",
       "   net_profit  \n",
       "0  1363528810  \n",
       "1   228436354  \n",
       "2   185238201  \n",
       "3  1868178225  \n",
       "4  1316249360  "
      ]
     },
     "execution_count": 23,
     "metadata": {},
     "output_type": "execute_result"
    }
   ],
   "source": [
    "df.head(5)"
   ]
  },
  {
   "cell_type": "code",
   "execution_count": 24,
   "metadata": {},
   "outputs": [
    {
     "name": "stdout",
     "output_type": "stream",
     "text": [
      "the index of maximum value is:  1386\n",
      "budget                                                    237000000\n",
      "revenue                                                 -2147483648\n",
      "original_title                                               Avatar\n",
      "cast              Sam Worthington|Zoe Saldana|Sigourney Weaver|S...\n",
      "director                                              James Cameron\n",
      "tagline                                 Enter the World of Pandora.\n",
      "runtime                                                         162\n",
      "genres                     Action|Adventure|Fantasy|Science Fiction\n",
      "release_date                                               12/10/09\n",
      "release_year                                                   2009\n",
      "net_profit                                               1910483648\n",
      "Name: 1386, dtype: object\n"
     ]
    }
   ],
   "source": [
    "#returns index of maximum then use the index to give me details about the move that have biggest profit\n",
    "max=df['net_profit'].idxmax()\n",
    "print('the index of maximum value is: ',max);\n",
    "max_info=df.loc[max]\n",
    "print(max_info)"
   ]
  },
  {
   "cell_type": "code",
   "execution_count": 25,
   "metadata": {},
   "outputs": [
    {
     "name": "stdout",
     "output_type": "stream",
     "text": [
      "the index of minimum value is:  2244\n",
      "budget                                                    425000000\n",
      "revenue                                                    11087569\n",
      "original_title                                    The Warrior's Way\n",
      "cast              Kate Bosworth|Jang Dong-gun|Geoffrey Rush|Dann...\n",
      "director                                                 Sngmoo Lee\n",
      "tagline                                     Assassin. Hero. Legend.\n",
      "runtime                                                         100\n",
      "genres                    Adventure|Fantasy|Action|Western|Thriller\n",
      "release_date                                                12/2/10\n",
      "release_year                                                   2010\n",
      "net_profit                                               -413912431\n",
      "Name: 2244, dtype: object\n"
     ]
    }
   ],
   "source": [
    "#returns index of minimum then use the index to give me details about the move that have smallest profit\n",
    "min=df['net_profit'].idxmin()\n",
    "print('the index of minimum value is: ',min);\n",
    "min_info=df.loc[min]\n",
    "print(min_info)"
   ]
  },
  {
   "cell_type": "markdown",
   "metadata": {},
   "source": [
    "<a id='Question 2'></a>\n",
    "### Research Question 2  (Calculating which Movies with biggest and smallest budgets?)"
   ]
  },
  {
   "cell_type": "code",
   "execution_count": 26,
   "metadata": {},
   "outputs": [
    {
     "name": "stdout",
     "output_type": "stream",
     "text": [
      "the index of maximum value is:  2244\n",
      "budget                                                    425000000\n",
      "revenue                                                    11087569\n",
      "original_title                                    The Warrior's Way\n",
      "cast              Kate Bosworth|Jang Dong-gun|Geoffrey Rush|Dann...\n",
      "director                                                 Sngmoo Lee\n",
      "tagline                                     Assassin. Hero. Legend.\n",
      "runtime                                                         100\n",
      "genres                    Adventure|Fantasy|Action|Western|Thriller\n",
      "release_date                                                12/2/10\n",
      "release_year                                                   2010\n",
      "net_profit                                               -413912431\n",
      "Name: 2244, dtype: object\n"
     ]
    }
   ],
   "source": [
    "#returns index of maximum then use the index to give me details about the move that have biggest budget\n",
    "highest_cost=df['budget'].idxmax()\n",
    "print('the index of maximum value is: ',highest_cost);\n",
    "highest_cost_info=df.loc[highest_cost]\n",
    "print(highest_cost_info)"
   ]
  },
  {
   "cell_type": "code",
   "execution_count": 27,
   "metadata": {},
   "outputs": [
    {
     "name": "stdout",
     "output_type": "stream",
     "text": [
      "the index of maximum value is:  2618\n",
      "budget                                                            1\n",
      "revenue                                                         100\n",
      "original_title                                         Lost & Found\n",
      "cast              David Spade|Sophie Marceau|Ever Carradine|Step...\n",
      "director                                               Jeff Pollack\n",
      "tagline           A comedy about a guy who would do anything to ...\n",
      "runtime                                                          95\n",
      "genres                                               Comedy|Romance\n",
      "release_date                                                4/23/99\n",
      "release_year                                                   1999\n",
      "net_profit                                                       99\n",
      "Name: 2618, dtype: object\n"
     ]
    }
   ],
   "source": [
    "#returns index of minimum then use the index to give me details about the move that have smallest budget\n",
    "lowest_cost=df['budget'].idxmin()\n",
    "print('the index of maximum value is: ',lowest_cost);\n",
    "lowest_cost_info=df.loc[lowest_cost]\n",
    "print(lowest_cost_info)"
   ]
  },
  {
   "cell_type": "markdown",
   "metadata": {},
   "source": [
    "<a id='Question 3'></a>\n",
    "## Research Question 3 (Calculating which years has biggest and smallest number of producing Movies?)"
   ]
  },
  {
   "cell_type": "code",
   "execution_count": 28,
   "metadata": {},
   "outputs": [
    {
     "name": "stdout",
     "output_type": "stream",
     "text": [
      "2011    199\n",
      "2013    180\n",
      "2010    178\n",
      "2009    174\n",
      "2006    169\n",
      "2008    167\n",
      "2014    165\n",
      "2007    165\n",
      "2005    163\n",
      "2015    160\n",
      "2012    158\n",
      "2004    147\n",
      "2002    127\n",
      "2003    121\n",
      "2001    121\n",
      "1999    116\n",
      "2000    106\n",
      "1998     92\n",
      "1997     90\n",
      "1996     86\n",
      "1995     81\n",
      "1993     72\n",
      "1994     62\n",
      "1988     57\n",
      "1990     53\n",
      "1992     53\n",
      "1989     51\n",
      "1991     50\n",
      "1986     48\n",
      "1987     46\n",
      "1984     42\n",
      "1985     41\n",
      "1983     31\n",
      "1981     30\n",
      "1982     26\n",
      "1980     23\n",
      "1977     19\n",
      "1978     17\n",
      "1979     16\n",
      "1976     15\n",
      "1971     13\n",
      "1967     13\n",
      "1974     13\n",
      "1973     12\n",
      "1970     11\n",
      "1961     10\n",
      "1975      9\n",
      "1968      9\n",
      "1972      8\n",
      "1964      7\n",
      "1962      7\n",
      "1963      6\n",
      "1965      5\n",
      "1966      5\n",
      "1960      5\n",
      "1969      4\n",
      "Name: release_year, dtype: int64\n"
     ]
    }
   ],
   "source": [
    "# calculating the numder of produced movies during years\n",
    "count=df['release_year'].value_counts()\n",
    "\n",
    "print(count);"
   ]
  },
  {
   "cell_type": "code",
   "execution_count": 29,
   "metadata": {},
   "outputs": [
    {
     "name": "stdout",
     "output_type": "stream",
     "text": [
      "smallest number of producing Movies is: 4 --> at: 1969\n",
      "biggest number of producing Movies is: 199 --> at: 2011\n"
     ]
    }
   ],
   "source": [
    "# years that has  the biggest and the smallest number of producing Movies\n",
    "count=df['release_year'].value_counts().min()\n",
    "idxcount=df['release_year'].value_counts().idxmin()\n",
    "print(\"smallest number of producing Movies is: {} --> at: {}\".format(count,idxcount));\n",
    "countmax=df['release_year'].value_counts().max()\n",
    "idxcountmax=df['release_year'].value_counts().idxmax()\n",
    "print(\"biggest number of producing Movies is: {} --> at: {}\".format(countmax,idxcountmax));"
   ]
  },
  {
   "cell_type": "code",
   "execution_count": 30,
   "metadata": {},
   "outputs": [
    {
     "data": {
      "image/png": "[encoded data removed]",
      "text/plain": [
       "<Figure size 1440x720 with 1 Axes>"
      ]
     },
     "metadata": {
      "needs_background": "light"
     },
     "output_type": "display_data"
    }
   ],
   "source": [
    "#design plot To summarize what we have done and to illustrate the progress over the years\n",
    "#Here i Plotting the calculated values using(value_counts())  and sorting them in ascending order by using(sort_index(ascending = True)) with a specification type of plot by usig(kind='bar'),and put value of('release_year')on x-axis and put value of (counted value) on y-axis\n",
    "count=df['release_year'].value_counts().sort_index(ascending = True).plot(kind='bar', x='release_year', y='num_of_movies',figsize=(20,10));\n",
    "#title of the x-axis with font size\n",
    "plt.xlabel(\"Year\",fontsize=20);\n",
    "#title of the y-axis with font size\n",
    "plt.ylabel(\"Number Of Movies Produced \",fontsize=20);\n",
    "#title of the  plot with font size\n",
    "plt.title(\"Num Of Movies Produced Over Years\",fontsize=20);"
   ]
  },
  {
   "cell_type": "markdown",
   "metadata": {},
   "source": [
    "Through this chart, we find that 2011 was the year during which movies were produced the most by 199 movie, and  in 1969 the least year during which films were produced by 4."
   ]
  },
  {
   "cell_type": "markdown",
   "metadata": {},
   "source": [
    "<a id='Question 4'></a>\n",
    "## Research Question 4 (Relation between Profits earned Vs Years and which year had maximum and minimum profits )"
   ]
  },
  {
   "cell_type": "code",
   "execution_count": 31,
   "metadata": {},
   "outputs": [],
   "source": [
    "profits_year = df.groupby('release_year')['net_profit'].sum()"
   ]
  },
  {
   "cell_type": "code",
   "execution_count": 32,
   "metadata": {},
   "outputs": [
    {
     "data": {
      "text/plain": [
       "19032145273.0"
      ]
     },
     "execution_count": 32,
     "metadata": {},
     "output_type": "execute_result"
    }
   ],
   "source": [
    "#calculate maximum profits earned\n",
    "profits_year.max()"
   ]
  },
  {
   "cell_type": "code",
   "execution_count": 33,
   "metadata": {},
   "outputs": [
    {
     "data": {
      "text/plain": [
       "2015"
      ]
     },
     "execution_count": 33,
     "metadata": {},
     "output_type": "execute_result"
    }
   ],
   "source": [
    "# Year at which maximum profits earned\n",
    "profits_year.idxmax()\n"
   ]
  },
  {
   "cell_type": "code",
   "execution_count": 34,
   "metadata": {},
   "outputs": [
    {
     "data": {
      "text/plain": [
       "52468689.0"
      ]
     },
     "execution_count": 34,
     "metadata": {},
     "output_type": "execute_result"
    }
   ],
   "source": [
    "#calculate minimum profits earned\n",
    "profits_year.min()"
   ]
  },
  {
   "cell_type": "code",
   "execution_count": 35,
   "metadata": {},
   "outputs": [
    {
     "data": {
      "text/plain": [
       "1966"
      ]
     },
     "execution_count": 35,
     "metadata": {},
     "output_type": "execute_result"
    }
   ],
   "source": [
    " #Year at which minimum profits earned\n",
    "profits_year.idxmin()"
   ]
  },
  {
   "cell_type": "code",
   "execution_count": 36,
   "metadata": {},
   "outputs": [
    {
     "name": "stdout",
     "output_type": "stream",
     "text": [
      " the maximum profit is: 19032145273.0 that happend at: 2015\n",
      " the minimum profit is: 52468689.0 that happend at: 1966\n"
     ]
    }
   ],
   "source": [
    "print(\" the maximum profit is: {} that happend at: {}\".format(profits_year.max(),profits_year.idxmax()));\n",
    "print(\" the minimum profit is: {} that happend at: {}\".format(profits_year.min(),profits_year.idxmin()));"
   ]
  },
  {
   "cell_type": "code",
   "execution_count": 37,
   "metadata": {},
   "outputs": [
    {
     "data": {
      "image/png": "[encoded data removed]",
      "text/plain": [
       "<Figure size 432x288 with 1 Axes>"
      ]
     },
     "metadata": {
      "needs_background": "light"
     },
     "output_type": "display_data"
    },
    {
     "data": {
      "text/plain": [
       "<Figure size 1440x1080 with 0 Axes>"
      ]
     },
     "metadata": {},
     "output_type": "display_data"
    }
   ],
   "source": [
    "#design plot To summarize what we have done and to illustrate the progress over the years\n",
    "profits_year = df.groupby('release_year')['net_profit'].sum()\n",
    "#plotting the graph\n",
    "plt.plot(profits_year);\n",
    "#title of the x-axis \n",
    "plt.xlabel(\"Year\")\n",
    "#title of the y-axis \n",
    "plt.ylabel(\"net_profit\")\n",
    "#title of the line plot\n",
    "plt.title(\"Relation between Profits earned Vs Years\")\n",
    "#figure size(width, height)\n",
    "plt.figure(figsize=(20,15));"
   ]
  },
  {
   "cell_type": "markdown",
   "metadata": {},
   "source": [
    "we can conclude both graphically as well as by calculations that year 2015 was the year where movies made the highest profit ,\n",
    "and that year 1966 was the year where movies made the smallest profit."
   ]
  },
  {
   "cell_type": "markdown",
   "metadata": {},
   "source": [
    "### defining a function to find average of a column(budgets,runtime)\n",
    "we can say that is:\n",
    "<a id='Question 5'></a>\n",
    "### Question 5"
   ]
  },
  {
   "cell_type": "code",
   "execution_count": 38,
   "metadata": {},
   "outputs": [],
   "source": [
    "# define a function to calculate and return average of a column\n",
    "def average(column):\n",
    "    return df[column].mean()"
   ]
  },
  {
   "cell_type": "code",
   "execution_count": 39,
   "metadata": {},
   "outputs": [
    {
     "data": {
      "text/plain": [
       "37203696.954852104"
      ]
     },
     "execution_count": 39,
     "metadata": {},
     "output_type": "execute_result"
    }
   ],
   "source": [
    "#calling the function to calcualate average of(budget)\n",
    "average('budget')"
   ]
  },
  {
   "cell_type": "markdown",
   "metadata": {},
   "source": [
    "So the average budget a movie is 37203696."
   ]
  },
  {
   "cell_type": "code",
   "execution_count": 40,
   "metadata": {},
   "outputs": [
    {
     "data": {
      "text/plain": [
       "109.22029060716139"
      ]
     },
     "execution_count": 40,
     "metadata": {},
     "output_type": "execute_result"
    }
   ],
   "source": [
    "#calling the function to calcualate average of('runtime')\n",
    "average('runtime')"
   ]
  },
  {
   "cell_type": "markdown",
   "metadata": {},
   "source": [
    "So the average runtime a movie is 109 minutes. Lets analyse it  by graphic."
   ]
  },
  {
   "cell_type": "code",
   "execution_count": 42,
   "metadata": {},
   "outputs": [
    {
     "data": {
      "image/png": "[encoded data removed]",
      "text/plain": [
       "<Figure size 648x360 with 1 Axes>"
      ]
     },
     "metadata": {
      "needs_background": "light"
     },
     "output_type": "display_data"
    }
   ],
   "source": [
    "#plotting a histogram of runtime of movies\n",
    "# figure size(width, height)\n",
    "plt.figure(figsize=(9,5))\n",
    "#title of the x-axis  \n",
    "plt.xlabel('Runtime of  Movies', fontsize = 15)\n",
    "#title of the y-axis  \n",
    "plt.ylabel('Number.of Movies', fontsize=15)\n",
    "#Name of the graph\n",
    "plt.title('Runtime of all movies', fontsize=15)\n",
    "#giving a histogram plot\n",
    "plt.hist(df['runtime'])\n",
    "#displays the plot\n",
    "plt.show()"
   ]
  },
  {
   "cell_type": "markdown",
   "metadata": {},
   "source": [
    "The distribution of the above formed graph is right skewed! Most of the movies are timed between 70 to 145 minutes"
   ]
  },
  {
   "cell_type": "markdown",
   "metadata": {},
   "source": [
    "<a id='conclusions'></a>\n",
    "## Conclusions\n",
    "\n",
    "> **Tip**: Through our operations(Data Wrangling,Data Wrangling), we were able to answer the questions we posed and represent them graphically,I came out with some very interesting facts about movies. After this analysis we can conclude following:\n",
    "Using this data, we were able to find out which movies have the largest budgets, and thus know the heroes of this work. Through this, we can conclude that if you want the movie to generate revenues, it must include these heroes. We were also able to know the extent of the growth of the movie industry’s revenues over the time period mentioned in the database Knowing the amounts that have been spent on the manufacture of these works, and we also learned about the extent of the expansion and growth of this industry over the years through a planned vision of the number of works that have been produced over the years.\n",
    "### Question 1\n",
    "we asked about: which Movies has biggest and smallest profit?\n",
    "after some operation on data we find that the  movie has biggest profit is Avatar by  1910483648\n",
    "we find that the  movie has smallest profit is   The Warrior's Way by  -413912431 \n",
    "### Question 2 \n",
    "we asked about : which Movies with biggest and smallest budgets?\n",
    "after some operation on data we find that the  movie has biggest budget is The Warrior's Way  by  425000000\n",
    "we find that the  movie has smallest budget is  Lost & Found  by  1\n",
    "### Question 3\n",
    "we asked about : which years has biggest and smallest number of producing Movies?\n",
    "after some operation on data we find that the  Year has biggest number of producing Movies is 2011  by  199\n",
    "we find that Year has smallest number of producing Movies is 1969  by  4\n",
    "### Question 4 \n",
    "we asked about : Relation between Profits earned Vs Years and which year had maximum and minimum profits\n",
    "after some operation on data we find that the Year has biggest Profits earned is 2015 by 19032145273.0\n",
    "we find that the Year has smallest Profits earned is 1966 by 52468689.0\n",
    "### Question 5\n",
    "we asked about :find average of a column(budgets,runtime)\n",
    "after some operation and defining function for that  find that the average budget a movie is 37203696 and  This reflects the large size of this industry\n",
    "thre average runtime a movie is 109 minutes\n",
    "\n"
   ]
  },
  {
   "cell_type": "markdown",
   "metadata": {},
   "source": [
    "<a id='Limitations'></a>\n",
    "### Limitations:\n",
    "This analysis was done considering the movies.  we are not sure if the data provided to us is completel corect and up-to-date. As mentioned before the budget and revenue column do not have currency unit, it might be possible different movies have budget in different currency according to the country they are produce in. So a disparity arises here which can state the complete analysis wrong. Dropping the rows with NAN values also affected the overall analysis\n",
    "Important note: I worked on this database without knowing whether this data is correct or not"
   ]
  },
  {
   "cell_type": "code",
   "execution_count": null,
   "metadata": {},
   "outputs": [],
   "source": []
  }
 ],
 "metadata": {
  "kernelspec": {
   "display_name": "Python 3",
   "language": "python",
   "name": "python3"
  },
  "language_info": {
   "codemirror_mode": {
    "name": "ipython",
    "version": 3
   },
   "file_extension": ".py",
   "mimetype": "text/x-python",
   "name": "python",
   "nbconvert_exporter": "python",
   "pygments_lexer": "ipython3",
   "version": "3.7.4"
  }
 },
 "nbformat": 4,
 "nbformat_minor": 2
}
